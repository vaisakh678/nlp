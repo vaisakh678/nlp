{
  "nbformat": 4,
  "nbformat_minor": 0,
  "metadata": {
    "colab": {
      "provenance": []
    },
    "kernelspec": {
      "name": "python3",
      "display_name": "Python 3"
    },
    "language_info": {
      "name": "python"
    }
  },
  "cells": [
    {
      "cell_type": "markdown",
      "source": [
        "# Text Preprocessing Phase - I\n"
      ],
      "metadata": {
        "id": "W5OXE0lPvqeu"
      }
    },
    {
      "cell_type": "code",
      "execution_count": null,
      "metadata": {
        "id": "BB7i0Enwq5O7"
      },
      "outputs": [],
      "source": [
        "file = open(\"/content/drive/MyDrive/Datasets/news.txt\",\"r\")\n",
        "text = file.read()"
      ]
    },
    {
      "cell_type": "code",
      "source": [
        "import nltk\n",
        "import re"
      ],
      "metadata": {
        "id": "Pm8WaF2vrqhX"
      },
      "execution_count": null,
      "outputs": []
    },
    {
      "cell_type": "code",
      "source": [
        "nltk.download('stopwords')\n",
        "nltk.download('punkt')"
      ],
      "metadata": {
        "colab": {
          "base_uri": "https://localhost:8080/"
        },
        "id": "Z4sCKoGdse9T",
        "outputId": "ceb5a443-6017-4873-cba5-897b0fcf8f01"
      },
      "execution_count": null,
      "outputs": [
        {
          "output_type": "stream",
          "name": "stderr",
          "text": [
            "[nltk_data] Downloading package stopwords to /root/nltk_data...\n",
            "[nltk_data]   Package stopwords is already up-to-date!\n",
            "[nltk_data] Downloading package punkt to /root/nltk_data...\n",
            "[nltk_data]   Package punkt is already up-to-date!\n"
          ]
        },
        {
          "output_type": "execute_result",
          "data": {
            "text/plain": [
              "True"
            ]
          },
          "metadata": {},
          "execution_count": 48
        }
      ]
    },
    {
      "cell_type": "code",
      "source": [
        "from  nltk.tokenize import sent_tokenize\n",
        "sent_split = sent_tokenize(text)\n",
        "print(sent_split)\n",
        "\n",
        "print(\"Sentence Count:\"+str(len(sent_split)))"
      ],
      "metadata": {
        "colab": {
          "base_uri": "https://localhost:8080/"
        },
        "id": "VBfBAj5Ns-AQ",
        "outputId": "31867533-02e4-4cb2-a6cd-f5d45fdad93e"
      },
      "execution_count": null,
      "outputs": [
        {
          "output_type": "stream",
          "name": "stdout",
          "text": [
            "['The mother opened her box of memories and the pain and darkness poured out again.', 'She pulled out a card.', 'Then a letter.', 'Then a photo of the daughter she lost 25 years ago when a commercial jetliner blew up over the Atlantic Ocean only minutes after lifting off from John F. Kennedy International Airport in New York, killing all 230 passengers and crew.', 'Such is the complicated, enduring legacy of TWA Flight 800.', 'To some it is still a story of a terrorist conspiracy that persists despite well-documented facts showing the plane was actually brought down by a tragic mechanical failure.', 'To others, it is a somber, bureaucratic turning point in how America investigates air crashes.', 'But for victims’ relatives like Carol Ziemkiewicz, who lost her daughter Jill Ann in the TWA 800 fireball, it is still a troubling story of lives cut short – an open wound of the heart that never seems to heal.', 'On those days, when she peruses the boxes with photographs and letters and poems about her daughter, Ziemkiewicz is reminded once again of what might have been.', '“I lost my heart, my soul,” said Ziemkiewicz.', '“My family will never be the same.', 'From ancient times, history has been pockmarked with sudden, unexpected tragedy that rips apart the lives of ordinary people.', 'But our modern world, with television and social media, have brought those intimate moments of tragedy into our living rooms and to the cellular phones we carry in our pockets.', 'What once might have seemed distant and limited to people far away has now become far more personal.', 'So it is with TWA Flight 800.', 'America watched on the night of July 17, 1996, as orange flames from the downed airliner streaked the Atlantic’s choppy surface, just a few miles off the coast of Fire Island.', 'We followed the video footage of fishermen and recreational boaters who rushed to the scene from docks in the Moriches Inlet in the hope that some passengers and crew might survive.', 'Later, we monitored the trail of conspiracy theories.', 'Was this an act of terrorism, perhaps the kind of suitcase bomb that brought down Pan Am 103 over Lockerbie, Scotland, in 1988?', 'Was it an errant missile fired from a U.S. Navy ship?', 'Was it a meteor?', 'After all, so many boaters thought they saw streaks of light in the summer sky.', 'We also witnessed genuine goodness, too.', 'As families of the lost passengers gathered at a hotel, we were introduced to the grace and kindness of a Franciscan priest, the Rev.', 'Mychal Judge, who comforted the grieving.', 'Five years later, Judge would perish in the 9/11 terrorist attack as he ministered to firefighters and police at New York City’s World Trade Center’s twin towers.', 'His grave in Totowa, New Jersey, is now a shrine for those who want him proclaimed a Roman Catholic saint.', '230 people perished when TWA Flight 800 exploded.', \"25 years later, the wounds are 'still raw.'\", 'Mike Kelly\\nNorthJersey.com\\n\\n\\n\\n\\n\\n\\n\\nThe mother opened her box of memories and the pain and darkness poured out again.', 'She pulled out a card.', 'Then a letter.', 'Then a photo of the daughter she lost 25 years ago when a commercial jetliner blew up over the Atlantic Ocean only minutes after lifting off from John F. Kennedy International Airport in New York, killing all 230 passengers and crew.', 'Such is the complicated, enduring legacy of TWA Flight 800.', 'To some it is still a story of a terrorist conspiracy that persists despite well-documented facts showing the plane was actually brought down by a tragic mechanical failure.', 'To others, it is a somber, bureaucratic turning point in how America investigates air crashes.', \"'The first conspiracy of the internet age’:How the TWA Flight 800 crash sparked online rumors for years\\n\\nBut for victims’ relatives like Carol Ziemkiewicz, who lost her daughter Jill Ann in the TWA 800 fireball, it is still a troubling story of lives cut short – an open wound of the heart that never seems to heal.\", 'Jill Ziemkiewicz after graduating school to become a flight attendant.', 'She died on TWA Flight 800 that crashed off the coast of Long Island on July 17, 1996.', 'On those days, when she peruses the boxes with photographs and letters and poems about her daughter, Ziemkiewicz is reminded once again of what might have been.', '“I lost my heart, my soul,” said Ziemkiewicz.', '“My family will never be the same.”\\n\\nTWA Flight 800:Remnants to be scrapped, 25 years after explosion killed 230 passengers, crew\\n\\nFrom ancient times, history has been pockmarked with sudden, unexpected tragedy that rips apart the lives of ordinary people.', 'But our modern world, with television and social media, have brought those intimate moments of tragedy into our living rooms and to the cellular phones we carry in our pockets.', 'What once might have seemed distant and limited to people far away has now become far more personal.', 'So it is with TWA Flight 800.', 'Luz Palaez, far right, who lost her daughter on TWA flight 800, Joan Holst, second from right, who lost her son, Marge Gross, second from left, who lost her brother and Betty Scott, a member of the National Transportation Safety Board, look on as the reconstruction of Flight 800 is moved to a smaller hanger in Calverton, New York, Tuesday, Sept., 14, 1999.', 'America watched on the night of July 17, 1996, as orange flames from the downed airliner streaked the Atlantic’s choppy surface, just a few miles off the coast of Fire Island.', 'We followed the video footage of fishermen and recreational boaters who rushed to the scene from docks in the Moriches Inlet in the hope that some passengers and crew might survive.', 'Later, we monitored the trail of conspiracy theories.', 'Was this an act of terrorism, perhaps the kind of suitcase bomb that brought down Pan Am 103 over Lockerbie, Scotland, in 1988?', 'Was it an errant missile fired from a U.S. Navy ship?', 'Was it a meteor?', 'After all, so many boaters thought they saw streaks of light in the summer sky.', 'We also witnessed genuine goodness, too.', 'As families of the lost passengers gathered at a hotel, we were introduced to the grace and kindness of a Franciscan priest, the Rev.', 'Mychal Judge, who comforted the grieving.', 'Five years later, Judge would perish in the 9/11 terrorist attack as he ministered to firefighters and police at New York City’s World Trade Center’s twin towers.', 'His grave in Totowa, New Jersey, is now a shrine for those who want him proclaimed a Roman Catholic saint.', 'It turned out that TWA 800 fell because sparks from a defective wire ignited vapors in a fuel tank, which then exploded.', 'But subsequent investigations by the FBI and the National Transportation Safety Board changed America.', 'Not only was TWA 800 one of the worst air disasters in U.S. history, it also raised questions about how America responds to conspiracies, how our government monitors the maintenance of aging commercial jetliners and how we treat relatives of victims.', 'One major change that resulted from the plane’s downing was that airlines now are required by federal law to set up a toll-free hotline for victims’ relatives to obtain information after a crash and to assign groups such as the Red Cross to care for those relatives.', 'Federal officials in 2008 announced new safety requirements on certain aircraft to prevent airplane fuel tanks from exploding.', 'Such basic policy changes, however, mean little to the families of those who lost mothers, fathers, sons, daughters, grandchildren and friends.']\n",
            "Sentence Count:64\n"
          ]
        }
      ]
    },
    {
      "cell_type": "code",
      "source": [
        "new_sentence = []\n",
        "for sentence in sent_split:\n",
        "  sentence = re.sub(r'[^\\w\\s]','',sentence)\n",
        "  sentence= sentence.lower()\n",
        "  new_sentence.append(sentence)"
      ],
      "metadata": {
        "id": "M1Yzj2mgvfBY"
      },
      "execution_count": null,
      "outputs": []
    },
    {
      "cell_type": "code",
      "source": [
        "from nltk.corpus import stopwords\n",
        "\n",
        "sen2words = []\n",
        "s = stopwords.words(\"english\")\n",
        "for line in new_sentence:\n",
        "  sen = []\n",
        "  for w in line.split():\n",
        "    if w not in s:\n",
        "      sen.append(w)\n",
        "  sen2words.append(sen)\n",
        "\n"
      ],
      "metadata": {
        "id": "cDADYG2O2JQQ"
      },
      "execution_count": null,
      "outputs": []
    },
    {
      "cell_type": "markdown",
      "source": [
        "# Word2Vec Approach"
      ],
      "metadata": {
        "id": "mcD4pLudvk3I"
      }
    },
    {
      "cell_type": "code",
      "source": [
        "import gensim\n",
        "from gensim.models import Word2Vec"
      ],
      "metadata": {
        "id": "y3xtB6DqtWEY"
      },
      "execution_count": null,
      "outputs": []
    },
    {
      "cell_type": "code",
      "source": [
        "model = Word2Vec(sen2words,min_count=1,size=100,window = 3,sg = 1)"
      ],
      "metadata": {
        "colab": {
          "base_uri": "https://localhost:8080/"
        },
        "id": "CoQsDd_w4iwr",
        "outputId": "f4a8c05e-8ba8-48af-cd03-4fa823f4b554"
      },
      "execution_count": null,
      "outputs": [
        {
          "output_type": "stream",
          "name": "stderr",
          "text": [
            "WARNING:gensim.models.base_any2vec:under 10 jobs per worker: consider setting a smaller `batch_words' for smoother alpha decay\n"
          ]
        }
      ]
    },
    {
      "cell_type": "code",
      "source": [
        "words = list(model.wv.vocab)\n",
        "print(words)"
      ],
      "metadata": {
        "colab": {
          "base_uri": "https://localhost:8080/"
        },
        "id": "eU5pf3JJ42ux",
        "outputId": "1535a5b0-a402-4f5e-a539-88b1904c77f1"
      },
      "execution_count": null,
      "outputs": [
        {
          "output_type": "stream",
          "name": "stdout",
          "text": [
            "['mother', 'opened', 'box', 'memories', 'pain', 'darkness', 'poured', 'pulled', 'card', 'letter', 'photo', 'daughter', 'lost', '25', 'years', 'ago', 'commercial', 'jetliner', 'blew', 'atlantic', 'ocean', 'minutes', 'lifting', 'john', 'f', 'kennedy', 'international', 'airport', 'new', 'york', 'killing', '230', 'passengers', 'crew', 'complicated', 'enduring', 'legacy', 'twa', 'flight', '800', 'still', 'story', 'terrorist', 'conspiracy', 'persists', 'despite', 'welldocumented', 'facts', 'showing', 'plane', 'actually', 'brought', 'tragic', 'mechanical', 'failure', 'others', 'somber', 'bureaucratic', 'turning', 'point', 'america', 'investigates', 'air', 'crashes', 'victims', 'relatives', 'like', 'carol', 'ziemkiewicz', 'jill', 'ann', 'fireball', 'troubling', 'lives', 'cut', 'short', 'open', 'wound', 'heart', 'never', 'seems', 'heal', 'days', 'peruses', 'boxes', 'photographs', 'letters', 'poems', 'reminded', 'might', 'soul', 'said', 'family', 'ancient', 'times', 'history', 'pockmarked', 'sudden', 'unexpected', 'tragedy', 'rips', 'apart', 'ordinary', 'people', 'modern', 'world', 'television', 'social', 'media', 'intimate', 'moments', 'living', 'rooms', 'cellular', 'phones', 'carry', 'pockets', 'seemed', 'distant', 'limited', 'far', 'away', 'become', 'personal', 'watched', 'night', 'july', '17', '1996', 'orange', 'flames', 'downed', 'airliner', 'streaked', 'atlantics', 'choppy', 'surface', 'miles', 'coast', 'fire', 'island', 'followed', 'video', 'footage', 'fishermen', 'recreational', 'boaters', 'rushed', 'scene', 'docks', 'moriches', 'inlet', 'hope', 'survive', 'later', 'monitored', 'trail', 'theories', 'act', 'terrorism', 'perhaps', 'kind', 'suitcase', 'bomb', 'pan', '103', 'lockerbie', 'scotland', '1988', 'errant', 'missile', 'fired', 'us', 'navy', 'ship', 'meteor', 'many', 'thought', 'saw', 'streaks', 'light', 'summer', 'sky', 'also', 'witnessed', 'genuine', 'goodness', 'families', 'gathered', 'hotel', 'introduced', 'grace', 'kindness', 'franciscan', 'priest', 'rev', 'mychal', 'judge', 'comforted', 'grieving', 'five', 'would', 'perish', '911', 'attack', 'ministered', 'firefighters', 'police', 'citys', 'trade', 'centers', 'twin', 'towers', 'grave', 'totowa', 'jersey', 'shrine', 'want', 'proclaimed', 'roman', 'catholic', 'saint', 'perished', 'exploded', 'wounds', 'raw', 'mike', 'kelly', 'northjerseycom', 'first', 'internet', 'agehow', 'crash', 'sparked', 'online', 'rumors', 'graduating', 'school', 'attendant', 'died', 'crashed', 'long', '800remnants', 'scrapped', 'explosion', 'killed', 'luz', 'palaez', 'right', 'joan', 'holst', 'second', 'son', 'marge', 'gross', 'left', 'brother', 'betty', 'scott', 'member', 'national', 'transportation', 'safety', 'board', 'look', 'reconstruction', 'moved', 'smaller', 'hanger', 'calverton', 'tuesday', 'sept', '14', '1999', 'turned', 'fell', 'sparks', 'defective', 'wire', 'ignited', 'vapors', 'fuel', 'tank', 'subsequent', 'investigations', 'fbi', 'changed', 'one', 'worst', 'disasters', 'raised', 'questions', 'responds', 'conspiracies', 'government', 'monitors', 'maintenance', 'aging', 'jetliners', 'treat', 'major', 'change', 'resulted', 'planes', 'downing', 'airlines', 'required', 'federal', 'law', 'set', 'tollfree', 'hotline', 'obtain', 'information', 'assign', 'groups', 'red', 'cross', 'care', 'officials', '2008', 'announced', 'requirements', 'certain', 'aircraft', 'prevent', 'airplane', 'tanks', 'exploding', 'basic', 'policy', 'changes', 'however', 'mean', 'little', 'mothers', 'fathers', 'sons', 'daughters', 'grandchildren', 'friends']\n"
          ]
        }
      ]
    },
    {
      "cell_type": "code",
      "source": [
        "model.save('model.bin')"
      ],
      "metadata": {
        "id": "5nii1-Gb4-GN"
      },
      "execution_count": null,
      "outputs": []
    },
    {
      "cell_type": "code",
      "source": [
        "print(model['mother'])"
      ],
      "metadata": {
        "colab": {
          "base_uri": "https://localhost:8080/"
        },
        "id": "JPpdnsyEmiS_",
        "outputId": "9f650ddb-1dcd-424f-9c8e-156665f8f340"
      },
      "execution_count": null,
      "outputs": [
        {
          "output_type": "stream",
          "name": "stdout",
          "text": [
            "[-4.20409162e-03  4.34622820e-03 -2.31493823e-03  4.67753736e-03\n",
            " -3.09018331e-04 -9.35336109e-04  4.87929769e-03  2.93357205e-03\n",
            " -1.11256388e-03 -3.19763873e-04  6.56343764e-04 -1.02788978e-03\n",
            " -3.84221249e-03  2.64494517e-03 -3.51458252e-03 -4.69459174e-03\n",
            "  2.77759391e-03  3.21625639e-03 -1.51687680e-04 -2.98778317e-03\n",
            " -8.32446909e-04  3.17228842e-03  1.81973795e-03 -1.74262107e-03\n",
            " -4.54143941e-04 -5.03846072e-03  4.20767022e-03  9.19634840e-05\n",
            " -1.48462667e-03  1.60249858e-03  1.35850452e-03 -2.81461212e-03\n",
            "  1.33423146e-03 -2.89816433e-03  1.21457130e-03  2.76606437e-03\n",
            "  2.93721794e-03  2.27995496e-03  8.08693876e-04  7.10195862e-04\n",
            " -4.48262133e-03  7.79237482e-04 -1.04779541e-03  4.11537848e-03\n",
            " -4.89806943e-03 -4.76822630e-03 -3.64912744e-03  2.19251681e-03\n",
            " -2.11071968e-03 -2.39576143e-03  5.09289699e-03 -1.55455375e-03\n",
            "  1.09434965e-04  3.83733725e-03  2.07571755e-03 -2.19104486e-03\n",
            " -4.85194009e-03 -2.26957421e-03 -1.93965877e-03  3.93060409e-03\n",
            "  4.15470451e-04  3.94872995e-03  5.33095852e-04 -1.85048569e-03\n",
            "  1.26584515e-03 -1.56332180e-03  3.31557682e-03 -2.32070405e-03\n",
            "  4.04581008e-03 -9.86998086e-04 -4.48568026e-03 -4.57101688e-03\n",
            " -2.89869471e-03  2.51585455e-03  9.92616115e-05 -2.77840096e-04\n",
            "  4.95442189e-03  6.10512972e-04 -2.73181056e-03 -1.31996069e-03\n",
            "  2.20747339e-03 -5.97957289e-04  3.13810469e-03  4.79956827e-04\n",
            "  4.15643025e-03 -2.62962864e-03  1.24509993e-03  9.73098271e-04\n",
            "  4.67344793e-03 -4.53339890e-03  1.88481912e-03 -4.63516451e-03\n",
            "  2.66091060e-03 -2.88119307e-03  2.26864684e-03 -3.36567126e-03\n",
            "  3.57031031e-03  3.27033387e-03  1.23017794e-03  4.84197307e-03]\n"
          ]
        },
        {
          "output_type": "stream",
          "name": "stderr",
          "text": [
            "/usr/local/lib/python3.7/dist-packages/ipykernel_launcher.py:1: DeprecationWarning: Call to deprecated `__getitem__` (Method will be removed in 4.0.0, use self.wv.__getitem__() instead).\n",
            "  \"\"\"Entry point for launching an IPython kernel.\n"
          ]
        }
      ]
    },
    {
      "cell_type": "code",
      "source": [
        "sentences_vector  = []\n",
        "for sen in sen2words:\n",
        "  line_vector = 0\n",
        "  for w in sen:\n",
        "    line_vector+=model[w]\n",
        "  avg = line_vector/len(sen)\n",
        "  sentences_vector.append([sen,avg])"
      ],
      "metadata": {
        "id": "1TG8z6B_EtOH",
        "colab": {
          "base_uri": "https://localhost:8080/"
        },
        "outputId": "addc88cb-7baa-41f7-cc5c-70c554541e78"
      },
      "execution_count": null,
      "outputs": [
        {
          "output_type": "stream",
          "name": "stderr",
          "text": [
            "/usr/local/lib/python3.7/dist-packages/ipykernel_launcher.py:5: DeprecationWarning: Call to deprecated `__getitem__` (Method will be removed in 4.0.0, use self.wv.__getitem__() instead).\n",
            "  \"\"\"\n"
          ]
        }
      ]
    },
    {
      "cell_type": "code",
      "source": [
        "print(sentences_vector[0])"
      ],
      "metadata": {
        "colab": {
          "base_uri": "https://localhost:8080/"
        },
        "id": "q5h8dARymT9s",
        "outputId": "0e1e4054-4c84-4376-f08a-8430826c758d"
      },
      "execution_count": null,
      "outputs": [
        {
          "output_type": "stream",
          "name": "stdout",
          "text": [
            "[['mother', 'opened', 'box', 'memories', 'pain', 'darkness', 'poured'], array([ 2.1121440e-04,  8.8529562e-04, -4.8343543e-04,  6.4542110e-04,\n",
            "       -2.1348844e-04, -2.7732158e-03,  2.0284988e-05,  7.7234727e-04,\n",
            "        7.7224884e-04,  8.4225798e-04,  5.5157812e-04, -7.4555411e-04,\n",
            "        1.0966238e-03,  2.2967618e-03, -5.6487462e-04,  1.6182011e-03,\n",
            "       -3.1451418e-04, -3.0178446e-04,  1.2065192e-03,  8.8810263e-04,\n",
            "       -8.1525650e-04,  3.8486626e-04, -7.5716199e-04,  7.6751906e-04,\n",
            "       -2.3948664e-03, -1.1277022e-03,  8.1209239e-04,  1.2422533e-03,\n",
            "        1.5682678e-04, -1.2155633e-03, -9.1870496e-04, -1.0824546e-03,\n",
            "        1.0339093e-04, -4.8038117e-05, -1.4435832e-03,  1.1200039e-03,\n",
            "       -1.8692132e-04,  5.2666292e-05, -4.5846662e-04,  2.0345042e-05,\n",
            "        2.0272124e-03, -1.3211690e-03, -7.2848248e-05, -9.2927238e-04,\n",
            "        7.6273124e-04, -2.0827104e-03, -1.5566131e-03,  1.6157292e-03,\n",
            "       -1.2241200e-03, -1.4597630e-04,  2.7406365e-03,  1.2199723e-03,\n",
            "       -2.3725720e-03, -5.0886709e-04,  2.8983611e-04,  7.0288061e-04,\n",
            "       -9.9353981e-04, -2.0659652e-04,  5.0650327e-04, -9.1581151e-04,\n",
            "       -2.7946429e-04,  2.2104525e-03, -4.7157813e-04, -1.2593188e-03,\n",
            "       -7.6221902e-04, -7.2874397e-04,  2.5214811e-03, -9.5650315e-04,\n",
            "        8.9848775e-04, -7.2635949e-04,  4.6546190e-04,  4.4893453e-04,\n",
            "        1.0713933e-03, -4.9299244e-05, -8.8663783e-04, -6.4344291e-04,\n",
            "        1.0399524e-03,  3.5542788e-04, -2.8011780e-03,  8.5830956e-04,\n",
            "       -4.3469408e-04,  2.6396778e-03,  2.1706731e-03,  7.8120088e-04,\n",
            "        8.7197975e-04,  3.6007492e-05, -6.3542899e-04, -1.4418327e-03,\n",
            "       -1.2266522e-03,  1.3961387e-04, -1.5300469e-03, -9.6209551e-04,\n",
            "        6.4484647e-04, -5.9162173e-04,  9.3338138e-04, -1.5063526e-03,\n",
            "        3.5395179e-04,  4.9995462e-04, -4.6798441e-04,  2.0920525e-04],\n",
            "      dtype=float32)]\n"
          ]
        }
      ]
    },
    {
      "cell_type": "code",
      "source": [
        "from numpy import dot\n",
        "from numpy.linalg import norm\n",
        "\n",
        "cos_sim = []\n",
        "\n",
        "for s in range(0,len(sentences_vector)):\n",
        "  for r in range(0,len(sentences_vector)):\n",
        "    cos = dot(sentences_vector[s][1], sentences_vector[r][1])/(norm(sentences_vector[s][1])*norm(sentences_vector[r][1]))\n",
        "    cos_sim.append([r,cos])\n",
        "\n",
        "cos_sim.sort(key = lambda x: (x[1]))"
      ],
      "metadata": {
        "id": "yhydtI1En2kG"
      },
      "execution_count": null,
      "outputs": []
    },
    {
      "cell_type": "code",
      "source": [
        "count = 0\n",
        "sentence = set()\n",
        "for i,j in cos_sim:\n",
        "  if(count<5):\n",
        "    sentence.add(new_sentence[i])\n",
        "  else:\n",
        "    break\n",
        "  count+=1"
      ],
      "metadata": {
        "id": "fM4KqrbtoKXm"
      },
      "execution_count": null,
      "outputs": []
    },
    {
      "cell_type": "code",
      "source": [
        "print(*sentence)"
      ],
      "metadata": {
        "id": "8JqkGNgsa5FF",
        "colab": {
          "base_uri": "https://localhost:8080/"
        },
        "outputId": "8bbca8c3-2b93-4fe5-8d62-a4a418356ac9"
      },
      "execution_count": null,
      "outputs": [
        {
          "output_type": "stream",
          "name": "stdout",
          "text": [
            "after all so many boaters thought they saw streaks of light in the summer sky but for victims relatives like carol ziemkiewicz who lost her daughter jill ann in the twa 800 fireball it is still a troubling story of lives cut short  an open wound of the heart that never seems to heal we also witnessed genuine goodness too\n"
          ]
        }
      ]
    },
    {
      "cell_type": "markdown",
      "source": [
        "# The GLoVe Approach"
      ],
      "metadata": {
        "id": "MsKG9xwtBqFU"
      }
    },
    {
      "cell_type": "code",
      "source": [
        "!pip install glove-python-binary"
      ],
      "metadata": {
        "colab": {
          "base_uri": "https://localhost:8080/"
        },
        "id": "XA0jKoRpB0Im",
        "outputId": "63066fe1-2950-44ed-b8b0-ad1335c666ca"
      },
      "execution_count": null,
      "outputs": [
        {
          "output_type": "stream",
          "name": "stdout",
          "text": [
            "Looking in indexes: https://pypi.org/simple, https://us-python.pkg.dev/colab-wheels/public/simple/\n",
            "Collecting glove-python-binary\n",
            "  Downloading glove_python_binary-0.2.0-cp37-cp37m-manylinux1_x86_64.whl (948 kB)\n",
            "\u001b[K     |████████████████████████████████| 948 kB 5.0 MB/s \n",
            "\u001b[?25hRequirement already satisfied: scipy in /usr/local/lib/python3.7/dist-packages (from glove-python-binary) (1.7.3)\n",
            "Requirement already satisfied: numpy in /usr/local/lib/python3.7/dist-packages (from glove-python-binary) (1.21.6)\n",
            "Installing collected packages: glove-python-binary\n",
            "Successfully installed glove-python-binary-0.2.0\n"
          ]
        }
      ]
    },
    {
      "cell_type": "code",
      "source": [
        "import glove\n",
        "from glove import Glove, Corpus\n"
      ],
      "metadata": {
        "id": "c2Pg8M8LEjgw"
      },
      "execution_count": null,
      "outputs": []
    },
    {
      "cell_type": "code",
      "source": [
        "corpus = Corpus()\n",
        "corpus.fit(sen2words, window=10)"
      ],
      "metadata": {
        "id": "cb9v4Q9ZEra6"
      },
      "execution_count": null,
      "outputs": []
    },
    {
      "cell_type": "code",
      "source": [
        "glove = Glove(no_components=5, learning_rate=0.05)\n",
        " \n",
        "glove.fit(corpus.matrix, epochs=30, no_threads=4, verbose=True)\n",
        "glove.add_dictionary(corpus.dictionary)\n",
        "glove.save('glove.model')"
      ],
      "metadata": {
        "colab": {
          "base_uri": "https://localhost:8080/"
        },
        "id": "TMQw_7MNFHbG",
        "outputId": "4ea6677d-98db-4ae1-b335-ff96bc075dbc"
      },
      "execution_count": null,
      "outputs": [
        {
          "output_type": "stream",
          "name": "stdout",
          "text": [
            "Performing 30 training epochs with 4 threads\n",
            "Epoch 0\n",
            "Epoch 1\n",
            "Epoch 2\n",
            "Epoch 3\n",
            "Epoch 4\n",
            "Epoch 5\n",
            "Epoch 6\n",
            "Epoch 7\n",
            "Epoch 8\n",
            "Epoch 9\n",
            "Epoch 10\n",
            "Epoch 11\n",
            "Epoch 12\n",
            "Epoch 13\n",
            "Epoch 14\n",
            "Epoch 15\n",
            "Epoch 16\n",
            "Epoch 17\n",
            "Epoch 18\n",
            "Epoch 19\n",
            "Epoch 20\n",
            "Epoch 21\n",
            "Epoch 22\n",
            "Epoch 23\n",
            "Epoch 24\n",
            "Epoch 25\n",
            "Epoch 26\n",
            "Epoch 27\n",
            "Epoch 28\n",
            "Epoch 29\n"
          ]
        }
      ]
    },
    {
      "cell_type": "code",
      "source": [
        "glove.add_dictionary(corpus.dictionary)"
      ],
      "metadata": {
        "id": "jXFSFjHnTBDH"
      },
      "execution_count": null,
      "outputs": []
    },
    {
      "cell_type": "code",
      "source": [
        "print(glove.word_vectors[glove.dictionary['lives']])"
      ],
      "metadata": {
        "colab": {
          "base_uri": "https://localhost:8080/"
        },
        "id": "y9xgfm8kTEp6",
        "outputId": "17ddf70e-77b4-472b-f876-68ca0f2f485c"
      },
      "execution_count": null,
      "outputs": [
        {
          "output_type": "stream",
          "name": "stdout",
          "text": [
            "[-6.26522090e-02 -5.42032926e-02  4.06152259e-02 -7.16405771e-02\n",
            "  8.79477921e-05]\n"
          ]
        }
      ]
    },
    {
      "cell_type": "code",
      "source": [
        "sentences_vector  = []\n",
        "for sen in sen2words:\n",
        "  line_vector = 0\n",
        "  for w in sen:\n",
        "    line_vector+=glove.word_vectors[glove.dictionary[w]]\n",
        "  avg = line_vector/len(sen)\n",
        "  sentences_vector.append([sen,avg])"
      ],
      "metadata": {
        "id": "TChRkCo6TVRv"
      },
      "execution_count": null,
      "outputs": []
    },
    {
      "cell_type": "code",
      "source": [
        "from numpy import dot\n",
        "from numpy.linalg import norm\n",
        "\n",
        "cos_sim = []\n",
        "\n",
        "for s in range(0,len(sentences_vector)):\n",
        "  for r in range(0,len(sentences_vector)):\n",
        "    cos = dot(sentences_vector[s][1], sentences_vector[r][1])/(norm(sentences_vector[s][1])*norm(sentences_vector[r][1]))\n",
        "    cos_sim.append([r,cos])\n",
        "\n",
        "cos_sim.sort(key = lambda x: (x[1]))"
      ],
      "metadata": {
        "id": "O-c4I8FBTIZe"
      },
      "execution_count": null,
      "outputs": []
    },
    {
      "cell_type": "code",
      "source": [
        "count = 0\n",
        "sentence = set()\n",
        "for i,j in cos_sim:\n",
        "  if(count<5):\n",
        "    sentence.add(new_sentence[i])\n",
        "  else:\n",
        "    break\n",
        "  count+=1"
      ],
      "metadata": {
        "id": "fk0-GtqxTh0H"
      },
      "execution_count": null,
      "outputs": []
    },
    {
      "cell_type": "code",
      "source": [
        "print(*sentence)"
      ],
      "metadata": {
        "id": "lyx8522XTj1g",
        "outputId": "5c974cb7-3a3d-47c8-9d61-ba6020c308f5",
        "colab": {
          "base_uri": "https://localhost:8080/"
        }
      },
      "execution_count": null,
      "outputs": [
        {
          "output_type": "stream",
          "name": "stdout",
          "text": [
            "was it an errant missile fired from a us navy ship mychal judge who comforted the grieving my family will never be the same\n",
            "\n",
            "twa flight 800remnants to be scrapped 25 years after explosion killed 230 passengers crew\n",
            "\n",
            "from ancient times history has been pockmarked with sudden unexpected tragedy that rips apart the lives of ordinary people\n"
          ]
        }
      ]
    }
  ]
}