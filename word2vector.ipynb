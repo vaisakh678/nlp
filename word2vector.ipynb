{
  "nbformat": 4,
  "nbformat_minor": 0,
  "metadata": {
    "colab": {
      "provenance": [],
      "collapsed_sections": []
    },
    "kernelspec": {
      "name": "python3",
      "display_name": "Python 3"
    },
    "language_info": {
      "name": "python"
    }
  },
  "cells": [
    {
      "cell_type": "code",
      "execution_count": null,
      "metadata": {
        "id": "tXWZUQe8FFsE"
      },
      "outputs": [],
      "source": [
        "import gensim"
      ]
    },
    {
      "cell_type": "code",
      "source": [
        "from gensim.models import Word2Vec"
      ],
      "metadata": {
        "id": "15zKbxuzJYfx"
      },
      "execution_count": null,
      "outputs": []
    },
    {
      "cell_type": "code",
      "source": [
        "#define training data\n",
        "sentences=[['this','is','the','first','sentence','for','word2vec'],\n",
        "['this','is','the','second','sentence'],\n",
        "['yet','another','sentence'],\n",
        "['one','more','sentence'],\n",
        "['and','the','final','sentence']]\n"
      ],
      "metadata": {
        "id": "pljJOm0cJlNa"
      },
      "execution_count": null,
      "outputs": []
    },
    {
      "cell_type": "code",
      "source": [
        "\n",
        "#train model\n",
        "model=Word2Vec(sentences,min_count=1,size=50,window=3,sg=1)\n",
        "#summarise the loaded model\n",
        "print(model)"
      ],
      "metadata": {
        "colab": {
          "base_uri": "https://localhost:8080/"
        },
        "id": "b2TZ3UY9LCUp",
        "outputId": "92da0311-1ae5-4e7b-917c-d6265dec5054"
      },
      "execution_count": null,
      "outputs": [
        {
          "output_type": "stream",
          "name": "stderr",
          "text": [
            "WARNING:gensim.models.base_any2vec:consider setting layer size to a multiple of 4 for greater performance\n",
            "WARNING:gensim.models.base_any2vec:under 10 jobs per worker: consider setting a smaller `batch_words' for smoother alpha decay\n"
          ]
        },
        {
          "output_type": "stream",
          "name": "stdout",
          "text": [
            "Word2Vec(vocab=14, size=50, alpha=0.025)\n"
          ]
        }
      ]
    },
    {
      "cell_type": "code",
      "source": [
        "#summarise vocabulary\n",
        "words=list(model.wv.vocab)\n",
        "print(words)"
      ],
      "metadata": {
        "colab": {
          "base_uri": "https://localhost:8080/"
        },
        "id": "bL2acHNCMK8X",
        "outputId": "3f62c608-b1b4-4e9a-b0b4-2d03d0d8b8c8"
      },
      "execution_count": null,
      "outputs": [
        {
          "output_type": "stream",
          "name": "stdout",
          "text": [
            "['this', 'is', 'the', 'first', 'sentence', 'for', 'word2vec', 'second', 'yet', 'another', 'one', 'more', 'and', 'final']\n"
          ]
        }
      ]
    },
    {
      "cell_type": "code",
      "source": [
        "#access vector for the word\n",
        "print(model['sentence'])\n",
        "#save model\n",
        "model.save('model.bin')"
      ],
      "metadata": {
        "id": "9WrZ6FzUMdI_",
        "colab": {
          "base_uri": "https://localhost:8080/"
        },
        "outputId": "96c6a1c7-6018-4c9f-b66f-c2e9413b8c9a"
      },
      "execution_count": null,
      "outputs": [
        {
          "output_type": "stream",
          "name": "stdout",
          "text": [
            "[ 0.00771     0.00430499  0.00158024 -0.002139    0.00492318  0.00720352\n",
            " -0.00927765  0.00100679 -0.00917118 -0.00532018  0.00707447 -0.00989121\n",
            "  0.00234352  0.0034243   0.00625336 -0.00063683  0.00314976  0.00790765\n",
            " -0.00972815  0.00510126 -0.00923626 -0.00176653 -0.00600562  0.0091635\n",
            "  0.00168353  0.00328367 -0.00371396  0.00401075 -0.00528352  0.00857754\n",
            " -0.00502083 -0.00446338  0.00553988 -0.0041877   0.00250037  0.00258665\n",
            "  0.00834491 -0.00955167  0.00573214  0.00824814 -0.00757693 -0.00549982\n",
            "  0.00265436 -0.00024856 -0.00834449  0.00530914  0.00910341  0.00890559\n",
            "  0.00469796 -0.00543971]\n"
          ]
        },
        {
          "output_type": "stream",
          "name": "stderr",
          "text": [
            "/usr/local/lib/python3.7/dist-packages/ipykernel_launcher.py:2: DeprecationWarning: Call to deprecated `__getitem__` (Method will be removed in 4.0.0, use self.wv.__getitem__() instead).\n",
            "  \n"
          ]
        }
      ]
    },
    {
      "cell_type": "code",
      "source": [
        "#load model\n",
        "new_model=Word2Vec.load('model.bin')\n",
        "print(new_model)"
      ],
      "metadata": {
        "colab": {
          "base_uri": "https://localhost:8080/"
        },
        "id": "vVThK7P2Njae",
        "outputId": "76f503a7-88fc-44c3-ebcf-8432c87f6d5e"
      },
      "execution_count": null,
      "outputs": [
        {
          "output_type": "stream",
          "name": "stdout",
          "text": [
            "Word2Vec(vocab=14, size=50, alpha=0.025)\n"
          ]
        }
      ]
    },
    {
      "cell_type": "code",
      "source": [
        "model.similarity('first','second')\n",
        "model.most_similar('word2vec')[:2]"
      ],
      "metadata": {
        "colab": {
          "base_uri": "https://localhost:8080/"
        },
        "id": "nwn1abO2OBIu",
        "outputId": "89c013f7-67ec-4daa-c8c6-28914cb4f183"
      },
      "execution_count": null,
      "outputs": [
        {
          "output_type": "stream",
          "name": "stderr",
          "text": [
            "/usr/local/lib/python3.7/dist-packages/ipykernel_launcher.py:1: DeprecationWarning: Call to deprecated `similarity` (Method will be removed in 4.0.0, use self.wv.similarity() instead).\n",
            "  \"\"\"Entry point for launching an IPython kernel.\n",
            "/usr/local/lib/python3.7/dist-packages/ipykernel_launcher.py:2: DeprecationWarning: Call to deprecated `most_similar` (Method will be removed in 4.0.0, use self.wv.most_similar() instead).\n",
            "  \n"
          ]
        },
        {
          "output_type": "execute_result",
          "data": {
            "text/plain": [
              "[('second', 0.34835928678512573), ('more', 0.1857663094997406)]"
            ]
          },
          "metadata": {},
          "execution_count": 8
        }
      ]
    },
    {
      "cell_type": "code",
      "source": [
        "from sklearn.decomposition import PCA\n",
        "from matplotlib import pyplot\n",
        "#fit a 2d PCA model to the vector\n",
        "x=model[model.wv.vocab]\n",
        "pca=PCA(n_components=2)\n",
        "result=pca.fit_transform(x)\n",
        "#create a scatter plot of projection\n",
        "pyplot.scatter(result[:,0],result[:,1])\n",
        "words=list(model.wv.vocab)\n",
        "for i,word in enumerate(words):\n",
        "  pyplot.annotate(word,xy=(result[i,0],result[i,1]))\n",
        "  pyplot.show() "
      ],
      "metadata": {
        "id": "bkrRfpoRQw5E"
      },
      "execution_count": null,
      "outputs": []
    },
    {
      "cell_type": "code",
      "source": [
        "import gensim.downloader as api\n",
        "word2vec=api.load('word2vec-google-news-300')\n"
      ],
      "metadata": {
        "colab": {
          "base_uri": "https://localhost:8080/"
        },
        "id": "KUYmlIVo2MLu",
        "outputId": "80e5b7de-b903-42b6-a906-0f5d30ca3d2a"
      },
      "execution_count": null,
      "outputs": [
        {
          "output_type": "stream",
          "name": "stdout",
          "text": [
            "[==================================================] 100.0% 1662.8/1662.8MB downloaded\n"
          ]
        }
      ]
    },
    {
      "cell_type": "code",
      "source": [
        "vocab = [\"boy\", \"girl\", \"man\", \"woman\", \"king\", \"queen\", \"banana\", \"apple\", \"mango\", \"fruit\", \"coconut\", \"orange\"]\n",
        "vocab2=[\"vehicle\",\"car\",\"jeep\",\"ship\",\"train\",\"flight\",\"travel\",\"kilometer\",\"distance\",\"crew\",\"hen\",\"eagle\",\"pigeon\"]\n",
        "from sklearn.manifold import TSNE\n",
        "import matplotlib.pyplot as plt\n",
        "def tsne_plot(model):\n",
        "    labels = []\n",
        "    wordvecs = []\n",
        "\n",
        "    for word in vocab2:\n",
        "        wordvecs.append(model[word])\n",
        "        labels.append(word)\n",
        "    \n",
        "    tsne_model = TSNE(perplexity=3, n_components=2, init='pca', random_state=42)\n",
        "    coordinates = tsne_model.fit_transform(wordvecs)\n",
        "\n",
        "    x = []\n",
        "    y = []\n",
        "    for value in coordinates:\n",
        "        x.append(value[0])\n",
        "        y.append(value[1])\n",
        "        \n",
        "    plt.figure(figsize=(8,8)) \n",
        "    for i in range(len(x)):\n",
        "        plt.scatter(x[i],y[i])\n",
        "        plt.annotate(labels[i],\n",
        "                     xy=(x[i], y[i]),\n",
        "                     xytext=(2, 2),\n",
        "                     textcoords='offset points',\n",
        "                     ha='right',\n",
        "                     va='bottom')\n",
        "    plt.show()\n",
        "\n",
        "tsne_plot(word2vec)\n"
      ],
      "metadata": {
        "colab": {
          "base_uri": "https://localhost:8080/",
          "height": 552
        },
        "id": "dfeDpDYw3-Wq",
        "outputId": "71507f28-a78f-4603-96ba-8ab9a983df63"
      },
      "execution_count": null,
      "outputs": [
        {
          "output_type": "stream",
          "name": "stderr",
          "text": [
            "/usr/local/lib/python3.7/dist-packages/sklearn/manifold/_t_sne.py:793: FutureWarning: The default learning rate in TSNE will change from 200.0 to 'auto' in 1.2.\n",
            "  FutureWarning,\n",
            "/usr/local/lib/python3.7/dist-packages/sklearn/manifold/_t_sne.py:986: FutureWarning: The PCA initialization in TSNE will change to have the standard deviation of PC1 equal to 1e-4 in 1.2. This will ensure better convergence.\n",
            "  FutureWarning,\n"
          ]
        },
        {
          "output_type": "display_data",
          "data": {
            "text/plain": [
              "<Figure size 576x576 with 1 Axes>"
            ],
            "image/png": "[encoded data removed]"
          },
          "metadata": {
            "needs_background": "light"
          }
        }
      ]
    }
  ]
}