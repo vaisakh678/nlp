{
  "nbformat": 4,
  "nbformat_minor": 0,
  "metadata": {
    "colab": {
      "provenance": [],
      "collapsed_sections": []
    },
    "kernelspec": {
      "name": "python3",
      "display_name": "Python 3"
    },
    "language_info": {
      "name": "python"
    }
  },
  "cells": [
    {
      "cell_type": "code",
      "execution_count": null,
      "metadata": {
        "id": "qaUvkrtEEiaG"
      },
      "outputs": [],
      "source": [
        "!pip install glove-python-binary"
      ]
    },
    {
      "cell_type": "code",
      "source": [
        "import glove "
      ],
      "metadata": {
        "id": "5dLjCDAE90GO"
      },
      "execution_count": null,
      "outputs": []
    },
    {
      "cell_type": "code",
      "source": [
        "from glove import Glove, Corpus\n"
      ],
      "metadata": {
        "id": "vd4IQXVp_AaK"
      },
      "execution_count": null,
      "outputs": []
    },
    {
      "cell_type": "code",
      "source": [
        "lines=[\"Hello this is a tutorial on how to convert the word in an integer format\",\"this is a beautiful day\",\"Jack is going to office\"]\n",
        "\n",
        "import nltk\n",
        "nltk.download(\"stopwords\")\n",
        "from nltk.corpus import stopwords\n",
        "s=stopwords.words(\"english\")\n",
        "\n",
        "\n",
        "\n",
        "\n",
        "\n",
        "words=[]\n",
        "for line in lines:\n",
        "  w=[]\n",
        "  for i in line.split(\" \"):\n",
        "    if i not in s:\n",
        "      w.append(i)\n",
        "  words.append(w)\n",
        "print(words)  \n",
        "\n",
        "\n",
        "\n"
      ],
      "metadata": {
        "id": "HyPHrYDb28ga"
      },
      "execution_count": null,
      "outputs": []
    },
    {
      "cell_type": "code",
      "source": [
        "lines=[['Hello', 'this','tutorial', 'on', 'how','convert' ,'word','integer','format'],['this' ,'beautiful', 'day'],['Jack','going' , 'office']]"
      ],
      "metadata": {
        "id": "T2F7Oaer4QK1"
      },
      "execution_count": null,
      "outputs": []
    },
    {
      "cell_type": "code",
      "source": [
        "corpus = Corpus() \n"
      ],
      "metadata": {
        "id": "Q0DqnM9f4qeK"
      },
      "execution_count": null,
      "outputs": []
    },
    {
      "cell_type": "code",
      "source": [
        "corpus.fit(lines, window=10)\n"
      ],
      "metadata": {
        "id": "CF-9mQwN_SFh"
      },
      "execution_count": null,
      "outputs": []
    },
    {
      "cell_type": "code",
      "source": [
        "glove = Glove(no_components=5, learning_rate=0.05)\n",
        " \n",
        "glove.fit(corpus.matrix, epochs=30, no_threads=4, verbose=True) #training model\n",
        "glove.add_dictionary(corpus.dictionary)\n",
        "glove.save('glove.model')"
      ],
      "metadata": {
        "id": "26_DZGcE_cep"
      },
      "execution_count": null,
      "outputs": []
    },
    {
      "cell_type": "code",
      "source": [
        "glove.add_dictionary(corpus.dictionary)"
      ],
      "metadata": {
        "id": "SGZqsWEf_m1I"
      },
      "execution_count": null,
      "outputs": []
    },
    {
      "cell_type": "code",
      "source": [
        "print(glove.word_vectors[glove.dictionary['tutorial']])\n"
      ],
      "metadata": {
        "id": "tqJwOmBi_qK6",
        "colab": {
          "base_uri": "https://localhost:8080/"
        },
        "outputId": "a426c96c-dd2c-4724-9184-6d32a99bbd61"
      },
      "execution_count": null,
      "outputs": [
        {
          "output_type": "stream",
          "name": "stdout",
          "text": [
            "[-0.07467153 -0.0776291   0.08759846 -0.0799028  -0.05973774]\n"
          ]
        }
      ]
    },
    {
      "cell_type": "code",
      "source": [
        "glove.most_similar('tutorial')"
      ],
      "metadata": {
        "id": "F2Rg0JGACH-C"
      },
      "execution_count": null,
      "outputs": []
    },
    {
      "cell_type": "code",
      "source": [
        "#Pre-trained model1"
      ],
      "metadata": {
        "id": "G0JHm_I4AeaR"
      },
      "execution_count": null,
      "outputs": []
    },
    {
      "cell_type": "code",
      "source": [
        "import gensim.downloader as api\n",
        "\n",
        "glove_model1 = api.load('glove-twitter-25')\n",
        "sample_glove_embedding=glove_model['computer']"
      ],
      "metadata": {
        "id": "VJKPYDcdAhgh"
      },
      "execution_count": null,
      "outputs": []
    },
    {
      "cell_type": "code",
      "source": [
        "sample_glove_embedding"
      ],
      "metadata": {
        "colab": {
          "base_uri": "https://localhost:8080/"
        },
        "id": "0v1Nw-rpBEic",
        "outputId": "5ec584b1-cc4a-48e5-a7bf-c57663b7ca3a"
      },
      "execution_count": null,
      "outputs": [
        {
          "output_type": "execute_result",
          "data": {
            "text/plain": [
              "array([ 0.64005 , -0.019514,  0.70148 , -0.66123 ,  1.1723  , -0.58859 ,\n",
              "        0.25917 , -0.81541 ,  1.1708  ,  1.1413  , -0.15405 , -0.11369 ,\n",
              "       -3.8414  , -0.87233 ,  0.47489 ,  1.1541  ,  0.97678 ,  1.1107  ,\n",
              "       -0.14572 , -0.52013 , -0.52234 , -0.92349 ,  0.34651 ,  0.061939,\n",
              "       -0.57375 ], dtype=float32)"
            ]
          },
          "metadata": {},
          "execution_count": 25
        }
      ]
    },
    {
      "cell_type": "code",
      "source": [
        "glove_model.most_similar('girl')"
      ],
      "metadata": {
        "colab": {
          "base_uri": "https://localhost:8080/"
        },
        "id": "t-Tbf3CUBQna",
        "outputId": "7c9e4bf7-2976-4973-b37f-49aa451a1e64"
      },
      "execution_count": null,
      "outputs": [
        {
          "output_type": "execute_result",
          "data": {
            "text/plain": [
              "[('boy', 0.9596140384674072),\n",
              " ('kid', 0.953269898891449),\n",
              " ('like', 0.9455347657203674),\n",
              " ('guy', 0.9448168277740479),\n",
              " ('friend', 0.941986620426178),\n",
              " ('look', 0.9395405650138855),\n",
              " ('sister', 0.9377639293670654),\n",
              " ('boyfriend', 0.9370700120925903),\n",
              " ('she', 0.9360418319702148),\n",
              " ('girls', 0.9336652755737305)]"
            ]
          },
          "metadata": {},
          "execution_count": 27
        }
      ]
    },
    {
      "cell_type": "code",
      "source": [],
      "metadata": {
        "id": "Wz2D2Zjtz3tq"
      },
      "execution_count": null,
      "outputs": []
    },
    {
      "cell_type": "code",
      "source": [
        "#Pre-trained model2"
      ],
      "metadata": {
        "id": "iCXj4mm9BnbR"
      },
      "execution_count": null,
      "outputs": []
    },
    {
      "cell_type": "code",
      "source": [
        "import gensim.downloader as api\n",
        "\n",
        "glove_model = api.load('glove-wiki-gigaword-300')"
      ],
      "metadata": {
        "id": "8R90_QK1BkKr"
      },
      "execution_count": null,
      "outputs": []
    },
    {
      "cell_type": "code",
      "source": [
        "glove_model.most_similar(\"girl\")"
      ],
      "metadata": {
        "id": "1njRp994CEIh",
        "colab": {
          "base_uri": "https://localhost:8080/"
        },
        "outputId": "b22310f7-3e40-4595-d524-f6d30f419691"
      },
      "execution_count": null,
      "outputs": [
        {
          "output_type": "execute_result",
          "data": {
            "text/plain": [
              "[('boy', 0.9596140384674072),\n",
              " ('kid', 0.953269898891449),\n",
              " ('like', 0.9455347657203674),\n",
              " ('guy', 0.9448168277740479),\n",
              " ('friend', 0.941986620426178),\n",
              " ('look', 0.9395405650138855),\n",
              " ('sister', 0.9377639293670654),\n",
              " ('boyfriend', 0.9370700120925903),\n",
              " ('she', 0.9360418319702148),\n",
              " ('girls', 0.9336652755737305)]"
            ]
          },
          "metadata": {},
          "execution_count": 29
        }
      ]
    },
    {
      "cell_type": "code",
      "source": [
        "vocab = [\"boy\", \"girl\", \"man\", \"woman\", \"king\", \"queen\", \"banana\", \"apple\", \"mango\", \"fruit\", \"coconut\", \"orange\"]\n",
        "vocab2=['vehicle','car','jeep','ship','train','flight','travel','kilometer','distance','crow','hen','eagle','pigeon']\n",
        "from sklearn.manifold import TSNE\n",
        "import matplotlib.pyplot as plt\n",
        "def tsne_plot(model):\n",
        "    labels = []\n",
        "    wordvecs = []\n",
        "\n",
        "    for word in vocab2:\n",
        "        wordvecs.append(model[word])\n",
        "        labels.append(word)\n",
        "    \n",
        "    tsne_model = TSNE(perplexity=3, n_components=2, init='pca', random_state=42)\n",
        "    coordinates = tsne_model.fit_transform(wordvecs)\n",
        "\n",
        "    x = []\n",
        "    y = []\n",
        "    for value in coordinates:\n",
        "        x.append(value[0])\n",
        "        y.append(value[1])\n",
        "        \n",
        "    plt.figure(figsize=(8,8)) \n",
        "    for i in range(len(x)):\n",
        "        plt.scatter(x[i],y[i])\n",
        "        plt.annotate(labels[i],\n",
        "                     xy=(x[i], y[i]),\n",
        "                     xytext=(2, 2),\n",
        "                     textcoords='offset points',\n",
        "                     ha='right',\n",
        "                     va='bottom')\n",
        "    plt.show()\n",
        "\n",
        "tsne_plot(glove_model)\n",
        "tsne_plot(glove_model1)\n"
      ],
      "metadata": {
        "colab": {
          "base_uri": "https://localhost:8080/",
          "height": 1000
        },
        "id": "ZDvM-Ch0EjyE",
        "outputId": "07b556fb-4630-48b3-fdaa-a8c44ee8c6ce"
      },
      "execution_count": null,
      "outputs": [
        {
          "output_type": "stream",
          "name": "stderr",
          "text": [
            "/usr/local/lib/python3.7/dist-packages/sklearn/manifold/_t_sne.py:793: FutureWarning: The default learning rate in TSNE will change from 200.0 to 'auto' in 1.2.\n",
            "  FutureWarning,\n",
            "/usr/local/lib/python3.7/dist-packages/sklearn/manifold/_t_sne.py:986: FutureWarning: The PCA initialization in TSNE will change to have the standard deviation of PC1 equal to 1e-4 in 1.2. This will ensure better convergence.\n",
            "  FutureWarning,\n"
          ]
        },
        {
          "output_type": "display_data",
          "data": {
            "text/plain": [
              "<Figure size 576x576 with 1 Axes>"
            ],
            "image/png": "[encoded data removed]"
          },
          "metadata": {
            "needs_background": "light"
          }
        },
        {
          "output_type": "stream",
          "name": "stderr",
          "text": [
            "/usr/local/lib/python3.7/dist-packages/sklearn/manifold/_t_sne.py:793: FutureWarning: The default learning rate in TSNE will change from 200.0 to 'auto' in 1.2.\n",
            "  FutureWarning,\n",
            "/usr/local/lib/python3.7/dist-packages/sklearn/manifold/_t_sne.py:986: FutureWarning: The PCA initialization in TSNE will change to have the standard deviation of PC1 equal to 1e-4 in 1.2. This will ensure better convergence.\n",
            "  FutureWarning,\n"
          ]
        },
        {
          "output_type": "display_data",
          "data": {
            "text/plain": [
              "<Figure size 576x576 with 1 Axes>"
            ],
            "image/png": "[encoded data removed]"
          },
          "metadata": {
            "needs_background": "light"
          }
        }
      ]
    }
  ]
}